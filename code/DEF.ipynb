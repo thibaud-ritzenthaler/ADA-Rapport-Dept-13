{
 "cells": [
  {
   "cell_type": "code",
   "execution_count": 10,
   "id": "initial_id",
   "metadata": {
    "collapsed": true,
    "ExecuteTime": {
     "end_time": "2023-10-02T13:39:41.823611300Z",
     "start_time": "2023-10-02T13:38:53.432672Z"
    }
   },
   "outputs": [
    {
     "name": "stdout",
     "output_type": "stream",
     "text": [
      "C:\\Users\\Tibo\\Documents\\Demographie\\M2S1\\UE1 - Analyse Démographique Appliquée\\ADA-Rapport-Dept-13\\code\n"
     ]
    },
    {
     "name": "stderr",
     "output_type": "stream",
     "text": [
      "C:\\Users\\Tibo\\AppData\\Local\\Temp\\ipykernel_11784\\2054152720.py:6: DtypeWarning: Columns (1,2,3,4,11,12,13,15,16,17,18,20,21,22,23,24,29,31,33,34,35,39,40,48,49,54,55,56,70,71,77,78,80,83,84,89,91,92,93,95,96) have mixed types. Specify dtype option on import or set low_memory=False.\n",
      "  survey = pd.read_csv(\"../data/FD_INDREGZE_2020.csv\", sep=\";\")\n"
     ]
    }
   ],
   "source": [
    "import pandas as pd\n",
    "import os\n",
    "\n",
    "print(os.getcwd())\n",
    "\n",
    "survey = pd.read_csv(\"../data/FD_INDREGZE_2020.csv\", sep=\";\")\n",
    "\n"
   ]
  },
  {
   "cell_type": "code",
   "execution_count": 22,
   "outputs": [
    {
     "data": {
      "text/plain": "2047977.2673516672"
     },
     "execution_count": 22,
     "metadata": {},
     "output_type": "execute_result"
    }
   ],
   "source": [
    "survey.head()\n",
    "survey = survey.loc[survey[\"DEPT\"] == 13]\n",
    "survey[\"IPONDI\"].sum() # sum of weight, people who lives in DEPT 13"
   ],
   "metadata": {
    "collapsed": false,
    "ExecuteTime": {
     "end_time": "2023-10-02T13:53:11.056049300Z",
     "start_time": "2023-10-02T13:53:10.590369300Z"
    }
   },
   "id": "cd379e43fd918362"
  },
  {
   "cell_type": "code",
   "execution_count": 26,
   "outputs": [
    {
     "data": {
      "text/plain": "2901129    65\n2901130    67\n2901131    33\n2901136    62\n2901137    56\n           ..\n4599385    16\n4599386    14\n4599387    21\n4599388    19\n4599389    18\nName: AGED, Length: 715147, dtype: int64"
     },
     "execution_count": 26,
     "metadata": {},
     "output_type": "execute_result"
    }
   ],
   "source": [
    "survey_lprm = survey[['LPRM','LPRF']]\n",
    "survey_lprm.head()\n"
   ],
   "metadata": {
    "collapsed": false,
    "ExecuteTime": {
     "end_time": "2023-10-02T14:00:07.853729500Z",
     "start_time": "2023-10-02T14:00:07.828968600Z"
    }
   },
   "id": "5547f8cd5d1097f"
  }
 ],
 "metadata": {
  "kernelspec": {
   "display_name": "Python 3",
   "language": "python",
   "name": "python3"
  },
  "language_info": {
   "codemirror_mode": {
    "name": "ipython",
    "version": 2
   },
   "file_extension": ".py",
   "mimetype": "text/x-python",
   "name": "python",
   "nbconvert_exporter": "python",
   "pygments_lexer": "ipython2",
   "version": "2.7.6"
  }
 },
 "nbformat": 4,
 "nbformat_minor": 5
}
